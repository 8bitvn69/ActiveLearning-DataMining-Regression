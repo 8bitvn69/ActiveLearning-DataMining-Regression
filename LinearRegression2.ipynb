{
 "cells": [
  {
   "cell_type": "markdown",
   "metadata": {},
   "source": [
    "# Nạp các thư viện cần thiết"
   ]
  },
  {
   "cell_type": "code",
   "execution_count": null,
   "metadata": {},
   "outputs": [],
   "source": [
    "#import cac thu vien python co ban\n",
    "import numpy as np\n",
    "import pandas as pd\n",
    "import matplotlib.pyplot as plt\n",
    "\n",
    "# Thu vien math dung de goi cac ham tinh toan co ban (binh phuong, khai can)\n",
    "from math import sqrt\n",
    "\n",
    "#import thu vien hoc may sklearn\n",
    "from sklearn import linear_model\n",
    "from sklearn import metrics # https://scikit-learn.org/stable/modules/classes.html#sklearn-metrics-metrics"
   ]
  },
  {
   "cell_type": "markdown",
   "metadata": {},
   "source": [
    "# Nạp dữ liệu của bài toán"
   ]
  },
  {
   "cell_type": "code",
   "execution_count": null,
   "metadata": {},
   "outputs": [],
   "source": [
    "# X: chiều cao (cm)\n",
    "X = np.array([[147, 150, 153, 158, 163, 165, 168, 170, 173, 175, 178, 180, 183]]).T\n",
    "# y: cân nặng (kg)\n",
    "y = np.array([ 49, 50, 51, 54, 58, 59, 60, 62, 63, 64, 66, 67, 68])"
   ]
  },
  {
   "cell_type": "code",
   "execution_count": null,
   "metadata": {},
   "outputs": [],
   "source": [
    "# Tao mo hinh hoi quy tuyen hinh va huan luyen\n",
    "regr = linear_model.LinearRegression()\n",
    "regr.fit(X, y)"
   ]
  },
  {
   "cell_type": "code",
   "execution_count": null,
   "metadata": {},
   "outputs": [],
   "source": [
    "# Cac he so hoi quy thu duoc cua mo hinh\n",
    "print(\"w_1 = \", regr.coef_[0])\n",
    "print(\"w_0 = \", regr.intercept_)"
   ]
  },
  {
   "cell_type": "code",
   "execution_count": null,
   "metadata": {},
   "outputs": [],
   "source": [
    "# Kiem thu lai dieu kien\n",
    "\n",
    "# Tinh y~\n",
    "y_pred = regr.predict(X)"
   ]
  },
  {
   "cell_type": "code",
   "execution_count": null,
   "metadata": {},
   "outputs": [],
   "source": [
    "# Su dung metrics de tinh toan cac sai so cua mo hinh\n",
    "\n",
    "# Sai so tuyet doi\n",
    "print('Mean Absolute Error:', metrics.mean_absolute_error(y, y_pred))\n",
    "\n",
    "# Sai so binh phuong trung binh \n",
    "print('Mean Squared Error:', metrics.mean_squared_error(y, y_pred))\n",
    "\n",
    "# Sai so can bac 2 trung binh\n",
    "print('Root Mean Squared Error:', sqrt(metrics.mean_squared_error(y, y_pred)))\n",
    "\n",
    "# He so xac dinh : coefficient of determination (R2)\n",
    "# Do phu hop [0, 1]\n",
    "print('R^2 score:', (metrics.r2_score(y, y_pred)))"
   ]
  },
  {
   "cell_type": "code",
   "execution_count": null,
   "metadata": {},
   "outputs": [],
   "source": [
    "# Hien thi du lieu\n",
    "\n",
    "# Lay 2 diem dau cuoi de ve do thi\n",
    "x0 = np.array([[140, 185]]).T\n",
    "y0 = regr.predict(x0)\n",
    "\n",
    "# Ve do thi su dung thu vien matplotlib\n",
    "plt.plot(X, y, 'ro')     # Bieu thi cac diem du lieu\n",
    "plt.plot(x0, y0)         # Bieu thi duong thang hoi quy\n",
    "plt.axis([140, 190, 45, 75])\n",
    "plt.xlabel('Chiều cao (cm)')\n",
    "plt.ylabel('Cân nặng (kg)')\n",
    "plt.show()"
   ]
  },
  {
   "cell_type": "code",
   "execution_count": null,
   "metadata": {},
   "outputs": [],
   "source": []
  }
 ],
 "metadata": {
  "kernelspec": {
   "display_name": "Python 3",
   "language": "python",
   "name": "python3"
  },
  "language_info": {
   "codemirror_mode": {
    "name": "ipython",
    "version": 3
   },
   "file_extension": ".py",
   "mimetype": "text/x-python",
   "name": "python",
   "nbconvert_exporter": "python",
   "pygments_lexer": "ipython3",
   "version": "3.6.9"
  }
 },
 "nbformat": 4,
 "nbformat_minor": 2
}
